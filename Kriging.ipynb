{
 "cells": [
  {
   "cell_type": "code",
   "execution_count": null,
   "id": "9faa6a36-dc4c-4dc8-9613-88a62329edbc",
   "metadata": {},
   "outputs": [],
   "source": [
    "import numpy as np\n",
    "import pandas as pd\n",
    "import matplotlib.pyplot as plt\n",
    "from pykrige.ok import OrdinaryKriging\n",
    "from sklearn.linear_model import LinearRegression\n",
    "from sklearn.metrics import mean_squared_error"
   ]
  },
  {
   "cell_type": "code",
   "execution_count": null,
   "id": "b08c0dbd-872a-400e-b450-1aced5de34cf",
   "metadata": {},
   "outputs": [],
   "source": [
    "# Load the CSV file\n",
    "file_path = 'ASJC.csv'  # Ensure your CSV is in the same folder or adjust the path\n",
    "df = pd.read_csv(C:\\Users\\asadh\\Downloads\\Kriging\\ASJC.csv)"
   ]
  },
  {
   "cell_type": "code",
   "execution_count": null,
   "id": "0c9dc3fc-9bb7-4fb3-ace6-8f160655c124",
   "metadata": {},
   "outputs": [],
   "source": [
    "# Extract relevant columns\n",
    "longitude = df['LongitudeDD'].values\n",
    "latitude = df['LatitudeDD'].values\n",
    "arsenic = df['As'].values"
   ]
  },
  {
   "cell_type": "code",
   "execution_count": null,
   "id": "2a570c67-d678-452c-bd1e-b8e52104c3f5",
   "metadata": {},
   "outputs": [],
   "source": [
    "# ------------------------------\n",
    "# 1. Perform Ordinary Kriging\n",
    "# ------------------------------\n",
    "# Define the grid for prediction\n",
    "gridx = np.linspace(min(longitude), max(longitude), 100)\n",
    "gridy = np.linspace(min(latitude), max(latitude), 100)"
   ]
  },
  {
   "cell_type": "code",
   "execution_count": null,
   "id": "b977fc9b-4a6f-446a-87e7-085ca422d6c9",
   "metadata": {},
   "outputs": [],
   "source": [
    "# Create Ordinary Kriging model with a spherical variogram\n",
    "OK = OrdinaryKriging(longitude, latitude, arsenic, variogram_model='spherical', verbose=True)"
   ]
  },
  {
   "cell_type": "code",
   "execution_count": null,
   "id": "2a3a7819-3a95-45e7-b6df-7239f5b91178",
   "metadata": {},
   "outputs": [],
   "source": [
    "# Perform Kriging on the grid\n",
    "arsenic_kriging, arsenic_std = OK.execute('grid', gridx, gridy)"
   ]
  },
  {
   "cell_type": "code",
   "execution_count": null,
   "id": "4a2566ae-08d9-44b4-a301-acaa832b9067",
   "metadata": {},
   "outputs": [],
   "source": [
    "# Plot Kriging Prediction\n",
    "plt.figure(figsize=(10, 6))\n",
    "plt.contourf(gridx, gridy, arsenic_kriging, cmap='viridis')\n",
    "plt.colorbar(label='Kriging Prediction (As)')\n",
    "plt.scatter(longitude, latitude, c='white', edgecolor='black', label='Data Points')\n",
    "plt.title('Kriging Prediction of Arsenic Concentration')\n",
    "plt.xlabel('Longitude')\n",
    "plt.ylabel('Latitude')\n",
    "plt.legend()\n",
    "plt.show()"
   ]
  },
  {
   "cell_type": "code",
   "execution_count": null,
   "id": "63d1fc69-9922-4b41-9cea-7873931e4da4",
   "metadata": {},
   "outputs": [],
   "source": [
    "# Plot Kriging Standard Error\n",
    "plt.figure(figsize=(10, 6))\n",
    "plt.contourf(gridx, gridy, arsenic_std, cmap='plasma')\n",
    "plt.colorbar(label='Standard Error')\n",
    "plt.scatter(longitude, latitude, c='white', edgecolor='black', label='Data Points')\n",
    "plt.title('Kriging Standard Error')\n",
    "plt.xlabel('Longitude')\n",
    "plt.ylabel('Latitude')\n",
    "plt.legend()\n",
    "plt.show()"
   ]
  },
  {
   "cell_type": "code",
   "execution_count": null,
   "id": "6a5d9591-d872-48ad-8107-895b3f240004",
   "metadata": {},
   "outputs": [],
   "source": [
    "# ------------------------------\n",
    "# 2. Fit a Global Linear Plane\n",
    "# ------------------------------\n",
    "# Prepare data for linear regression\n",
    "coords = np.vstack((longitude, latitude)).T"
   ]
  },
  {
   "cell_type": "code",
   "execution_count": null,
   "id": "8051a63f-f0f3-40b8-b266-939cc47034ce",
   "metadata": {},
   "outputs": [],
   "source": [
    "# Fit the linear regression model\n",
    "linear_model = LinearRegression()\n",
    "linear_model.fit(coords, arsenic)"
   ]
  },
  {
   "cell_type": "code",
   "execution_count": null,
   "id": "306d0658-9658-423e-b607-62cbdd9674b6",
   "metadata": {},
   "outputs": [],
   "source": [
    "# Predict arsenic concentrations on the grid\n",
    "grid_lon, grid_lat = np.meshgrid(gridx, gridy)\n",
    "grid_coords = np.c_[grid_lon.ravel(), grid_lat.ravel()]\n",
    "arsenic_global_pred = linear_model.predict(grid_coords).reshape(grid_lon.shape)"
   ]
  },
  {
   "cell_type": "code",
   "execution_count": null,
   "id": "cdc682c7-9709-4898-8042-a6a8adc069a2",
   "metadata": {},
   "outputs": [],
   "source": [
    "# Plot Global Linear Plane Prediction\n",
    "plt.figure(figsize=(10, 6))\n",
    "plt.contourf(gridx, gridy, arsenic_global_pred, cmap='viridis')\n",
    "plt.colorbar(label='Global Linear Plane Prediction (As)')\n",
    "plt.scatter(longitude, latitude, c='white', edgecolor='black', label='Data Points')\n",
    "plt.title('Global Linear Plane Prediction of Arsenic Concentration')\n",
    "plt.xlabel('Longitude')\n",
    "plt.ylabel('Latitude')\n",
    "plt.legend()\n",
    "plt.show()"
   ]
  },
  {
   "cell_type": "code",
   "execution_count": null,
   "id": "ed76b278-4bc2-4b97-bbe7-a4c1dfffdbf7",
   "metadata": {},
   "outputs": [],
   "source": [
    "# ------------------------------\n",
    "# 3. Compare Models (RMSE)\n",
    "# ------------------------------\n",
    "# Kriging predictions at original data points\n",
    "arsenic_kriging_pred, _ = OK.execute('points', longitude, latitude)\n",
    "rmse_kriging = np.sqrt(mean_squared_error(arsenic, arsenic_kriging_pred))\n"
   ]
  },
  {
   "cell_type": "code",
   "execution_count": null,
   "id": "7e84ef8c-87c7-4fe9-aec7-ff2440b01dc9",
   "metadata": {},
   "outputs": [],
   "source": [
    "# Global linear model predictions at original data points\n",
    "arsenic_global_pred_points = linear_model.predict(coords)\n",
    "rmse_global = np.sqrt(mean_squared_error(arsenic, arsenic_global_pred_points))"
   ]
  },
  {
   "cell_type": "code",
   "execution_count": null,
   "id": "663c60f4-c7e3-4fb6-9c07-e4e8e592870a",
   "metadata": {},
   "outputs": [],
   "source": [
    "print(f\"RMSE for Kriging: {rmse_kriging:.3f}\")\n",
    "print(f\"RMSE for Global Model: {rmse_global:.3f}\")"
   ]
  },
  {
   "cell_type": "code",
   "execution_count": null,
   "id": "cc25264a-358e-40c8-a811-6e1d505dbaf1",
   "metadata": {},
   "outputs": [],
   "source": [
    "# ------------------------------\n",
    "# 4. Suggest New Sampling Locations\n",
    "# ------------------------------\n",
    "# Identify regions with high standard error for additional sampling\n",
    "plt.figure(figsize=(10, 6))\n",
    "plt.contourf(gridx, gridy, arsenic_std, cmap='plasma')\n",
    "plt.colorbar(label='Standard Error')\n",
    "plt.scatter(longitude, latitude, c='white', edgecolor='black', label='Existing Points')"
   ]
  },
  {
   "cell_type": "code",
   "execution_count": null,
   "id": "d0417d7a-9317-4412-a90d-e00260c20e89",
   "metadata": {},
   "outputs": [],
   "source": [
    "# Mark suggested new sampling locations in regions with high standard error\n",
    "new_x = [gridx[25], gridx[75]]\n",
    "new_y = [gridy[25], gridy[75]]\n",
    "plt.scatter(new_x, new_y, c='red', marker='x', s=100, label='New Sampling Points')"
   ]
  },
  {
   "cell_type": "code",
   "execution_count": null,
   "id": "6582144f-6d3d-4713-a10d-7e2d91b792bf",
   "metadata": {},
   "outputs": [],
   "source": [
    "plt.title('Suggested New Sampling Locations')\n",
    "plt.xlabel('Longitude')\n",
    "plt.ylabel('Latitude')\n",
    "plt.legend()\n",
    "plt.show()"
   ]
  }
 ],
 "metadata": {
  "kernelspec": {
   "display_name": "Python 3 (ipykernel)",
   "language": "python",
   "name": "python3"
  },
  "language_info": {
   "codemirror_mode": {
    "name": "ipython",
    "version": 3
   },
   "file_extension": ".py",
   "mimetype": "text/x-python",
   "name": "python",
   "nbconvert_exporter": "python",
   "pygments_lexer": "ipython3",
   "version": "3.12.4"
  }
 },
 "nbformat": 4,
 "nbformat_minor": 5
}
